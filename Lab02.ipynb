{
 "cells": [
  {
   "cell_type": "markdown",
   "id": "9ed56307",
   "metadata": {},
   "source": [
    "# Algorytmika i matematyka uczenia maszynowego \n",
    "## Laboratorium 2\n",
    "\n",
    "Do wykonania zadań proszę zapoznać się z metodami, właściwościami, oraz funkcjami:\n",
    "`__repr__`, `__str__`, `__add__`, `__sub__`, `__eq__`, `__lt__`, `__gt__`, `__le__`, `__ge__`, `__ne__`, `__hash__`, `__truediv__`, `__mul__`, `__class__`, `__name__`, `id`.\n",
    "\n",
    "Operatory: https://docs.python.org/3/library/operator.html\n",
    "\n",
    "\n",
    "**UWAGA**: W ninejszym laboratorium proszę nie korzystać z zewnętrzych modułów/bibliotek (poza biblioteką _matplotlib_).\n",
    "\n",
    "**UWAGA 2**: Obsługę błędów należy zrealizować w postaci wyjątków.\n",
    "\n",
    "### Zadanie 1\n",
    "\n",
    "Napisz klasę `Vector` udostępniającą funkcjonalność:\n",
    "- reprezentuje wektor dowolnej długości,\n",
    "- obiekt inicjowany listą (np. `Vector([1, 2, 3])`,\n",
    "- posiada funkcję zwracającą moduł wektora,\n",
    "- umożliwia dodawanie (`+`) i odejmowanie (`-`) wektorów. Dodaj obsługę błędów (różna długość (liczba elementów) wektora),\n",
    "- możliwość wyświetlenia wektora jako listy za pomocą funkcji `print(v)` (metoda `__str__`),\n",
    "- uruchomienie komórki zawierającej jedynie nazwę zmiennej (typu `Vector`) spowoduje wyświetlenie nazwy typu `Vector`, adresu zmiennej w pamięci (funkcja `id`) oraz jej zawartości, np. `<Vector([1, 2, 3]) at 140185630442880>` (metoda `__repr__`)"
   ]
  },
  {
   "cell_type": "code",
   "execution_count": 55,
   "id": "ac82ae76",
   "metadata": {},
   "outputs": [],
   "source": [
    "import sys\n",
    "import math\n",
    "import matplotlib.pyplot as plt\n",
    "\n",
    "class Vector:\n",
    "    def __init__(self, data: list):\n",
    "        self.data = data\n",
    "\n",
    "    def mode(self):\n",
    "        return math.sqrt(sum([self.data[i]**2 for i in range(len(self.data))]))\n",
    "\n",
    "    def __add__(self, other):\n",
    "        if len(self.data) != len(other.data):\n",
    "            raise ArithmeticError()\n",
    "        return Vector([self.data[i] + other.data[i] for i in range(len(self.data))])\n",
    "\n",
    "    def __sub__(self, other):\n",
    "        if len(self.data) != len(other.data):\n",
    "            raise ArithmeticError()\n",
    "        return Vector([self.data[i] - other.data[i] for i in range(len(self.data))])\n",
    "\n",
    "    def __str__(self):\n",
    "        return str(self.data)\n",
    "\n",
    "    def __repr__(self):\n",
    "        return f'<{self.__class__.__name__}({self.data}) at {hex(id(self))}>'\n",
    "\n",
    "    def __eq__(self, other):\n",
    "        if len(self.data) != len(other.data):\n",
    "            raise ArithmeticError()\n",
    "        return Vector([self.data[i] == other.data[i] for i in range(len(self.data))])\n",
    "\n",
    "    def __ge__(self, other):\n",
    "        if len(self.data) != len(other.data):\n",
    "            raise ArithmeticError()\n",
    "        return Vector([self.data[i] >= other.data[i] for i in range(len(self.data))])\n",
    "\n",
    "    def __le__(self, other):\n",
    "        if len(self.data) != len(other.data):\n",
    "            raise ArithmeticError()\n",
    "        return Vector([self.data[i] <= other.data[i] for i in range(len(self.data))])\n",
    "\n",
    "    def __gt__(self, other):\n",
    "        if len(self.data) != len(other.data):\n",
    "            raise ArithmeticError()\n",
    "        return Vector([self.data[i] > other.data[i] for i in range(len(self.data))])\n",
    "\n",
    "    def __lt__(self, other):\n",
    "        if len(self.data) != len(other.data):\n",
    "            raise ArithmeticError()\n",
    "        return Vector([self.data[i] < other.data[i] for i in range(len(self.data))])\n",
    "\n",
    "    def __ne__(self, other):\n",
    "        if len(self.data) != len(other.data):\n",
    "            raise ArithmeticError()\n",
    "        return Vector([self.data[i] != other.data[i] for i in range(len(self.data))])\n",
    "\n",
    "    def arrow(self):\n",
    "        if len(self.data) != 2:\n",
    "            raise ValueError()\n",
    "        plt.arrow(0,0, self.data[0], self.data[1], head_width=0.05, head_length=0.1, fc='k', ec='k')\n",
    "        plt.show()\n",
    "\n",
    "    def __hash__(self):\n",
    "        return hash(str(self.data))\n",
    "\n",
    "    def __mul__(self, other):\n",
    "        if not isinstance(other, (int, float)):\n",
    "            raise ValueError()\n",
    "        return Vector([self.data[i] * other for i in range(len(self.data))])\n",
    "\n",
    "    def __truediv__(self, other):\n",
    "        if not isinstance(other, (int, float)):\n",
    "            raise TypeError()\n",
    "        if other == 0:\n",
    "            raise ArithmeticError()\n",
    "        return Vector([self.data[i] / other for i in range(len(self.data))])"
   ]
  },
  {
   "cell_type": "code",
   "execution_count": 56,
   "outputs": [
    {
     "name": "stdout",
     "output_type": "stream",
     "text": [
      "[1, 2]\n",
      "<Vector([3, 4]) at 0x1b1bcf68850>\n",
      "2.23606797749979\n",
      "[4, 6]\n",
      "[-2, -2]\n"
     ]
    },
    {
     "ename": "ArithmeticError",
     "evalue": "",
     "output_type": "error",
     "traceback": [
      "\u001B[1;31m---------------------------------------------------------------------------\u001B[0m",
      "\u001B[1;31mArithmeticError\u001B[0m                           Traceback (most recent call last)",
      "Input \u001B[1;32mIn [56]\u001B[0m, in \u001B[0;36m<cell line: 9>\u001B[1;34m()\u001B[0m\n\u001B[0;32m      7\u001B[0m \u001B[38;5;28mprint\u001B[39m(test \u001B[38;5;241m+\u001B[39m test2)\n\u001B[0;32m      8\u001B[0m \u001B[38;5;28mprint\u001B[39m(test \u001B[38;5;241m-\u001B[39m test2)\n\u001B[1;32m----> 9\u001B[0m \u001B[38;5;28mprint\u001B[39m(\u001B[43mtest\u001B[49m\u001B[43m \u001B[49m\u001B[38;5;241;43m+\u001B[39;49m\u001B[43m \u001B[49m\u001B[43mtest3\u001B[49m)\n",
      "Input \u001B[1;32mIn [55]\u001B[0m, in \u001B[0;36mVector.__add__\u001B[1;34m(self, other)\u001B[0m\n\u001B[0;32m     12\u001B[0m \u001B[38;5;28;01mdef\u001B[39;00m \u001B[38;5;21m__add__\u001B[39m(\u001B[38;5;28mself\u001B[39m, other):\n\u001B[0;32m     13\u001B[0m     \u001B[38;5;28;01mif\u001B[39;00m \u001B[38;5;28mlen\u001B[39m(\u001B[38;5;28mself\u001B[39m\u001B[38;5;241m.\u001B[39mdata) \u001B[38;5;241m!=\u001B[39m \u001B[38;5;28mlen\u001B[39m(other\u001B[38;5;241m.\u001B[39mdata):\n\u001B[1;32m---> 14\u001B[0m         \u001B[38;5;28;01mraise\u001B[39;00m \u001B[38;5;167;01mArithmeticError\u001B[39;00m()\n\u001B[0;32m     15\u001B[0m     \u001B[38;5;28;01mreturn\u001B[39;00m Vector([\u001B[38;5;28mself\u001B[39m\u001B[38;5;241m.\u001B[39mdata[i] \u001B[38;5;241m+\u001B[39m other\u001B[38;5;241m.\u001B[39mdata[i] \u001B[38;5;28;01mfor\u001B[39;00m i \u001B[38;5;129;01min\u001B[39;00m \u001B[38;5;28mrange\u001B[39m(\u001B[38;5;28mlen\u001B[39m(\u001B[38;5;28mself\u001B[39m\u001B[38;5;241m.\u001B[39mdata))])\n",
      "\u001B[1;31mArithmeticError\u001B[0m: "
     ]
    }
   ],
   "source": [
    "test = Vector([1,2])\n",
    "test2 = Vector([3,4])\n",
    "test3 = Vector([5,6,7])\n",
    "print(test)\n",
    "print(repr(test2))\n",
    "print(test.mode())\n",
    "print(test + test2)\n",
    "print(test - test2)\n",
    "print(test + test3)\n"
   ],
   "metadata": {
    "collapsed": false,
    "pycharm": {
     "name": "#%%\n"
    }
   }
  },
  {
   "cell_type": "markdown",
   "id": "87da7375",
   "metadata": {},
   "source": [
    "### Zadanie 2\n",
    "\n",
    "Do wcześniej zaimplementowanej klasy dopisz funkcje pozwalające na porównanie wektorów (ich modułów) za pomocą operatorów: `==`, `>=`, `<=`, `>`, `<`, `!=`. Porównanie ma zostać wykonane na poziomie elementów wektorów (_element wise_), poniżej przykład:\n",
    "\n",
    "```ipython\n",
    " In [1]: a = Vector([1, 2, 3]) \\\n",
    "    ...: b = Vector([3, 2, 1]) \\\n",
    "    ...: a <= b\n",
    "Out [1]: <Vector([True, True, False]) at 140185575662832>\n",
    "```"
   ]
  },
  {
   "cell_type": "code",
   "execution_count": 57,
   "id": "3b99972a",
   "metadata": {},
   "outputs": [
    {
     "data": {
      "text/plain": "'<Vector([True, True, False]) at 0x1b1bcf682e0>'"
     },
     "execution_count": 57,
     "metadata": {},
     "output_type": "execute_result"
    }
   ],
   "source": [
    "a = Vector([1, 2, 3])\n",
    "b = Vector([3, 2, 1])\n",
    "repr(a <= b)\n",
    "# Out [1]: <Vector([True, True, False]) at 140185575662832>"
   ]
  },
  {
   "cell_type": "markdown",
   "id": "d8e9a446",
   "metadata": {},
   "source": [
    "### Zadanie 3\n",
    "\n",
    "Do klasy `Vector` dopisz funkcję umożliwiającą wyświetlenie wektora na wykresie (zaimplementuj wyświetlanie za pomocą biblioteki `matplotlib`. \n",
    "\n",
    "> **UWAGA**: Funkcja powinna działać tylko dla wektora o dwóch wymiarach (dwuelementowa lista) - wykres 2D i wyświetlać komunikat jeżeli wymiar jest inny.\n",
    "\n",
    "> Podpowiedź: możesz wykorzystać funkcję [matplotlib.pyplot.arrow](https://matplotlib.org/3.5.1/api/_as_gen/matplotlib.pyplot.arrow.html)"
   ]
  },
  {
   "cell_type": "code",
   "execution_count": 58,
   "id": "c9f9de7b",
   "metadata": {},
   "outputs": [
    {
     "data": {
      "text/plain": "<Figure size 432x288 with 1 Axes>",
      "image/png": "[encoded data removed]"
     },
     "metadata": {
      "needs_background": "light"
     },
     "output_type": "display_data"
    }
   ],
   "source": [
    "arr = Vector([2, 2])\n",
    "arr.arrow()"
   ]
  },
  {
   "cell_type": "markdown",
   "id": "ebc3c411",
   "metadata": {},
   "source": [
    "### Zadanie 4\n",
    "\n",
    "Dodaj możliwość zastosowania obiektu klasy `Vector` jako klucza w słowniku. Np.:\n",
    "\n",
    "```python\n",
    "d = {\n",
    "    Vector([1, 2, 3]): 'Wektor 1',\n",
    "    Vector([2, 2, 3]): 'Wektor 2'\n",
    "}\n",
    "d[Vector([2, 2, 3])]\n",
    "```"
   ]
  },
  {
   "cell_type": "code",
   "execution_count": 59,
   "id": "d1db2d39",
   "metadata": {},
   "outputs": [
    {
     "data": {
      "text/plain": "'Wektor 2'"
     },
     "execution_count": 59,
     "metadata": {},
     "output_type": "execute_result"
    }
   ],
   "source": [
    "d = {\n",
    "    Vector([1, 2, 3]): 'Wektor 1',\n",
    "    Vector([2, 2, 3]): 'Wektor 2'\n",
    "}\n",
    "d[Vector([2, 2, 3])]"
   ]
  },
  {
   "cell_type": "markdown",
   "id": "8aec816a",
   "metadata": {},
   "source": [
    "### Zadanie 5\n",
    "\n",
    "Dodaj funkcjonalność:\n",
    "- dzielenia przez skalar (np. `Vector([2, 4]) / 2`),\n",
    "- mnożenia przez skalar (np. `Vector([2, 4]) * 2`).\n",
    "\n",
    "> Podpowiedź: Pamiętaj o obsłudze błędów."
   ]
  },
  {
   "cell_type": "code",
   "execution_count": 60,
   "id": "2bb3d9bb",
   "metadata": {
    "pycharm": {
     "name": "#%%\n"
    }
   },
   "outputs": [
    {
     "ename": "ArithmeticError",
     "evalue": "",
     "output_type": "error",
     "traceback": [
      "\u001B[1;31m---------------------------------------------------------------------------\u001B[0m",
      "\u001B[1;31mArithmeticError\u001B[0m                           Traceback (most recent call last)",
      "Input \u001B[1;32mIn [60]\u001B[0m, in \u001B[0;36m<cell line: 1>\u001B[1;34m()\u001B[0m\n\u001B[1;32m----> 1\u001B[0m \u001B[38;5;28mprint\u001B[39m(\u001B[43mVector\u001B[49m\u001B[43m(\u001B[49m\u001B[43m[\u001B[49m\u001B[38;5;241;43m2\u001B[39;49m\u001B[43m,\u001B[49m\u001B[38;5;241;43m6\u001B[39;49m\u001B[43m]\u001B[49m\u001B[43m)\u001B[49m\u001B[43m \u001B[49m\u001B[38;5;241;43m/\u001B[39;49m\u001B[43m \u001B[49m\u001B[38;5;241;43m0\u001B[39;49m)\n\u001B[0;32m      2\u001B[0m \u001B[38;5;28mprint\u001B[39m(Vector([\u001B[38;5;241m1\u001B[39m,\u001B[38;5;241m2\u001B[39m]) \u001B[38;5;241m*\u001B[39m \u001B[38;5;241m2\u001B[39m)\n",
      "Input \u001B[1;32mIn [55]\u001B[0m, in \u001B[0;36mVector.__truediv__\u001B[1;34m(self, other)\u001B[0m\n\u001B[0;32m     74\u001B[0m     \u001B[38;5;28;01mraise\u001B[39;00m \u001B[38;5;167;01mTypeError\u001B[39;00m()\n\u001B[0;32m     75\u001B[0m \u001B[38;5;28;01mif\u001B[39;00m other \u001B[38;5;241m==\u001B[39m \u001B[38;5;241m0\u001B[39m:\n\u001B[1;32m---> 76\u001B[0m     \u001B[38;5;28;01mraise\u001B[39;00m \u001B[38;5;167;01mArithmeticError\u001B[39;00m()\n\u001B[0;32m     77\u001B[0m \u001B[38;5;28;01mreturn\u001B[39;00m Vector([\u001B[38;5;28mself\u001B[39m\u001B[38;5;241m.\u001B[39mdata[i] \u001B[38;5;241m/\u001B[39m other \u001B[38;5;28;01mfor\u001B[39;00m i \u001B[38;5;129;01min\u001B[39;00m \u001B[38;5;28mrange\u001B[39m(\u001B[38;5;28mlen\u001B[39m(\u001B[38;5;28mself\u001B[39m\u001B[38;5;241m.\u001B[39mdata))])\n",
      "\u001B[1;31mArithmeticError\u001B[0m: "
     ]
    }
   ],
   "source": [
    "print(Vector([2,6]) / 0)\n",
    "print(Vector([1,2]) * 2)"
   ]
  }
 ],
 "metadata": {
  "author": {
   "email": "robert.susik@p.lodz.pl",
   "name": "Robert Susik"
  },
  "kernelspec": {
   "display_name": "Python 3 (ipykernel)",
   "language": "python",
   "name": "python3"
  },
  "language_info": {
   "codemirror_mode": {
    "name": "ipython",
    "version": 3
   },
   "file_extension": ".py",
   "mimetype": "text/x-python",
   "name": "python",
   "nbconvert_exporter": "python",
   "pygments_lexer": "ipython3",
   "version": "3.8.11"
  },
  "toc": {
   "base_numbering": 1,
   "nav_menu": {},
   "number_sections": true,
   "sideBar": true,
   "skip_h1_title": false,
   "title_cell": "Table of Contents",
   "title_sidebar": "Contents",
   "toc_cell": false,
   "toc_position": {},
   "toc_section_display": true,
   "toc_window_display": false
  }
 },
 "nbformat": 4,
 "nbformat_minor": 5
}