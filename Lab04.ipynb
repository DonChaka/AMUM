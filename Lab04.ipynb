{
 "cells": [
  {
   "cell_type": "markdown",
   "id": "59b5dc28",
   "metadata": {},
   "source": [
    "# Algorytmika i matematyka uczenia maszynowego \n",
    "## Laboratorium 4\n",
    "\n",
    "Do wykonania laboratorium należy skorzystać z bibliotek:\n",
    "- [numpy](https://numpy.org/)\n",
    "- [matplotlib](https://matplotlib.org/)\n",
    "\n",
    "### Zadanie 1\n",
    "\n",
    "Dana jest następująca lista prostokątów:\n",
    "\n",
    "```\n",
    "rectangles = [(\"R1\", 5, 4.5), (\"Szeroki\", 11, 3), (\"R2\", 4, 6), (\"Wąski\", 3, 8), (\"Kwadrat 1\", 5, 5), (\"Kwadrat 2\", 4.5, 4.5)] \n",
    "```\n",
    "\n",
    "gdzie kolejne pola krotek to: \n",
    "- nazwa, \n",
    "- szerokość, \n",
    "- wysokość.\n",
    "\n",
    "#### A) \n",
    "Na jej bazie utwórz ustrukturalizowaną tablicę Numpy (`np.array(...)`), następnie posortuj dane prostokąty rosnąco po polu, a w przypadku równości niech decyduje (alfabetycznie) nazwa prostokąta.\n",
    "\n",
    "#### B) \n",
    "Wypisz posortowaną tablicę, w kolejności pól: \n",
    "1. szerokość, \n",
    "2. wysokość, \n",
    "3. nazwa.\n",
    "\n",
    "> Uwaga: Gdzie to możliwe, działaj na typach i funkcjach z biblioteki Numpy.\n",
    "\n"
   ]
  },
  {
   "cell_type": "code",
   "execution_count": 15,
   "outputs": [],
   "source": [
    "import numpy as np\n",
    "import matplotlib as pyplot"
   ],
   "metadata": {
    "collapsed": false,
    "pycharm": {
     "name": "#%%\n"
    }
   }
  },
  {
   "cell_type": "code",
   "execution_count": 16,
   "id": "adf73c67",
   "metadata": {},
   "outputs": [],
   "source": [
    "np_rec = np.array([(\"R1\", 5., 4.5), (\"Szeroki\", 11., 3.), (\"R2\", 4., 6.), (\"Wąski\", 3., 8.), (\"Kwadrat 1\", 5., 5.), (\"AA\", 4., 6.), (\"Kwadrat 2\", 4.5, 4.5)])"
   ]
  },
  {
   "cell_type": "code",
   "execution_count": 17,
   "outputs": [
    {
     "name": "stdout",
     "output_type": "stream",
     "text": [
      "[['R1' '5.0' '4.5']\n",
      " ['Szeroki' '11.0' '3.0']\n",
      " ['R2' '4.0' '6.0']\n",
      " ['Wąski' '3.0' '8.0']\n",
      " ['Kwadrat 1' '5.0' '5.0']\n",
      " ['AA' '4.0' '6.0']\n",
      " ['Kwadrat 2' '4.5' '4.5']]\n"
     ]
    }
   ],
   "source": [
    "print(np_rec)"
   ],
   "metadata": {
    "collapsed": false,
    "pycharm": {
     "name": "#%%\n"
    }
   }
  },
  {
   "cell_type": "code",
   "execution_count": 18,
   "outputs": [],
   "source": [
    "def sort_by_field_and_name(x):\n",
    "    return x[1].astype(float) * x[2].astype(float), x[0]"
   ],
   "metadata": {
    "collapsed": false,
    "pycharm": {
     "name": "#%%\n"
    }
   }
  },
  {
   "cell_type": "code",
   "execution_count": 19,
   "outputs": [
    {
     "name": "stdout",
     "output_type": "stream",
     "text": [
      "[['Kwadrat 2' '4.5' '4.5']\n",
      " ['R1' '5.0' '4.5']\n",
      " ['AA' '4.0' '6.0']\n",
      " ['R2' '4.0' '6.0']\n",
      " ['Wąski' '3.0' '8.0']\n",
      " ['Kwadrat 1' '5.0' '5.0']\n",
      " ['Szeroki' '11.0' '3.0']]\n"
     ]
    }
   ],
   "source": [
    "# np_rec[(np_rec[:, 1].astype(float) * np_rec[:, 2].astype(float)).argsort()]\n",
    "print(np.array(sorted(np_rec, key=sort_by_field_and_name)))"
   ],
   "metadata": {
    "collapsed": false,
    "pycharm": {
     "name": "#%%\n"
    }
   }
  },
  {
   "cell_type": "code",
   "execution_count": 20,
   "outputs": [
    {
     "data": {
      "text/plain": "array([['Szeroki', '11.0', '3.0'],\n       ['Wąski', '3.0', '8.0'],\n       ['R2', '4.0', '6.0'],\n       ['AA', '4.0', '6.0'],\n       ['Kwadrat 2', '4.5', '4.5'],\n       ['R1', '5.0', '4.5'],\n       ['Kwadrat 1', '5.0', '5.0']], dtype='<U32')"
     },
     "execution_count": 20,
     "metadata": {},
     "output_type": "execute_result"
    }
   ],
   "source": [
    "np_rec[np_rec[:,1].argsort()]"
   ],
   "metadata": {
    "collapsed": false,
    "pycharm": {
     "name": "#%%\n"
    }
   }
  },
  {
   "cell_type": "code",
   "execution_count": 21,
   "outputs": [
    {
     "data": {
      "text/plain": "array([['Szeroki', '11.0', '3.0'],\n       ['R1', '5.0', '4.5'],\n       ['Kwadrat 2', '4.5', '4.5'],\n       ['Kwadrat 1', '5.0', '5.0'],\n       ['R2', '4.0', '6.0'],\n       ['AA', '4.0', '6.0'],\n       ['Wąski', '3.0', '8.0']], dtype='<U32')"
     },
     "execution_count": 21,
     "metadata": {},
     "output_type": "execute_result"
    }
   ],
   "source": [
    "np_rec[np_rec[:,2].argsort()]"
   ],
   "metadata": {
    "collapsed": false,
    "pycharm": {
     "name": "#%%\n"
    }
   }
  },
  {
   "cell_type": "code",
   "execution_count": 22,
   "outputs": [
    {
     "data": {
      "text/plain": "array([['AA', '4.0', '6.0'],\n       ['Kwadrat 1', '5.0', '5.0'],\n       ['Kwadrat 2', '4.5', '4.5'],\n       ['R1', '5.0', '4.5'],\n       ['R2', '4.0', '6.0'],\n       ['Szeroki', '11.0', '3.0'],\n       ['Wąski', '3.0', '8.0']], dtype='<U32')"
     },
     "execution_count": 22,
     "metadata": {},
     "output_type": "execute_result"
    }
   ],
   "source": [
    "np_rec[np_rec[:,0].argsort()]"
   ],
   "metadata": {
    "collapsed": false,
    "pycharm": {
     "name": "#%%\n"
    }
   }
  },
  {
   "cell_type": "markdown",
   "id": "ca4e7af2",
   "metadata": {},
   "source": [
    "### Zadanie 2 - gra 2048\n",
    "\n",
    "Dana jest kwadratowa plansza o boku `SIZE` (np. 4) dla znanej gry 2048 (https://2048game.com/pl/). \n",
    "Każdy wiersz zawiera od 0 do 4 liczb. Należy, z wykorzystaniem konstrukcji Numpy, zasymulować ruch w lewo, w prawo, w górę i w dół planszy zgodnie z regułami gry (ale **BEZ** dodawania nowego kafelka w losowym miejscu). Innymi słowy, trzeba napisać cztery funkcje: \n",
    "- `move_left(...)`, \n",
    "- `move_right(...)`, \n",
    "- `move_up(...)`, \n",
    "- `move_down(...)`.\n",
    "\n",
    "Przykład ruchu w prawo:\n",
    "\n",
    "Wejściem i wyjściem każdej z obu funkcji jest 2-wymiarowa tablica Numpy.\n",
    "\n",
    "> UWAGA: postaraj się napisać funkcję tylko do jednego ruchu, a pozostałe trzy niech się do niej w sprytny sposób odwołują."
   ]
  },
  {
   "cell_type": "code",
   "execution_count": 23,
   "outputs": [],
   "source": [
    "def move_left(board: np.ndarray) -> np.ndarray:\n",
    "    for j in range(board.shape[0]):\n",
    "        for i in range(1, board.shape[1]):\n",
    "            if board[j, i] != 0:\n",
    "                summed = False\n",
    "                for k in range(i, 0, -1):\n",
    "                    if board[j, k-1] == board[j, k] and not summed:\n",
    "                        board[j, k-1] += board[j, k]\n",
    "                        board[j, k] = 0\n",
    "                        summed = True\n",
    "                    if  board[j, k-1] == 0:\n",
    "                        board[j, k-1] += board[j, k]\n",
    "                        board[j, k] = 0\n",
    "    return board\n",
    "\n",
    "def move_right(board: np.ndarray) -> np.ndarray:\n",
    "    return np.fliplr(move_left(np.fliplr(board)))\n",
    "\n",
    "def move_down(board: np.ndarray) -> np.ndarray:\n",
    "    return np.rot90(move_left(np.rot90(board, 3)))\n",
    "\n",
    "def move_up(board: np.ndarray) -> np.ndarray:\n",
    "    return np.flipud(move_down(np.flipud(board)))"
   ],
   "metadata": {
    "collapsed": false,
    "pycharm": {
     "name": "#%%\n"
    }
   }
  },
  {
   "cell_type": "code",
   "execution_count": 29,
   "outputs": [
    {
     "name": "stdout",
     "output_type": "stream",
     "text": [
      "[[ 2 16  2  2]\n",
      " [ 8  0  0  4]\n",
      " [ 2  0  0  2]\n",
      " [ 4  4  4  4]]\n"
     ]
    }
   ],
   "source": [
    "SIZE = 4\n",
    "board = np.array(([2,16,2,2],[8,0,0,4],[2,0,0,2],[4,4,4,4]))\n",
    "print(board)"
   ],
   "metadata": {
    "collapsed": false,
    "pycharm": {
     "name": "#%%\n"
    }
   }
  },
  {
   "cell_type": "code",
   "execution_count": 30,
   "outputs": [
    {
     "name": "stdout",
     "output_type": "stream",
     "text": [
      "[[ 0  2 16  4]\n",
      " [ 0  0  8  4]\n",
      " [ 0  0  0  4]\n",
      " [ 0  0  8  8]]\n"
     ]
    }
   ],
   "source": [
    "print(move_right(board))"
   ],
   "metadata": {
    "collapsed": false,
    "pycharm": {
     "name": "#%%\n"
    }
   }
  },
  {
   "cell_type": "code",
   "execution_count": 31,
   "outputs": [
    {
     "name": "stdout",
     "output_type": "stream",
     "text": [
      "[[ 0  0  0  0]\n",
      " [ 0  0  0  4]\n",
      " [ 0  0  0  0]\n",
      " [ 0  2 32 16]]\n"
     ]
    }
   ],
   "source": [
    "print(move_down(board))"
   ],
   "metadata": {
    "collapsed": false,
    "pycharm": {
     "name": "#%%\n"
    }
   }
  },
  {
   "cell_type": "code",
   "execution_count": 32,
   "outputs": [
    {
     "name": "stdout",
     "output_type": "stream",
     "text": [
      "[[ 0  0  0  0]\n",
      " [ 4  0  0  0]\n",
      " [ 0  0  0  0]\n",
      " [ 2 32 16  0]]\n"
     ]
    }
   ],
   "source": [
    "print(move_left(board))"
   ],
   "metadata": {
    "collapsed": false,
    "pycharm": {
     "name": "#%%\n"
    }
   }
  },
  {
   "cell_type": "code",
   "execution_count": 33,
   "outputs": [
    {
     "name": "stdout",
     "output_type": "stream",
     "text": [
      "[[ 4 32 16  0]\n",
      " [ 2  0  0  0]\n",
      " [ 0  0  0  0]\n",
      " [ 0  0  0  0]]\n"
     ]
    }
   ],
   "source": [
    "print(move_up(board))"
   ],
   "metadata": {
    "collapsed": false,
    "pycharm": {
     "name": "#%%\n"
    }
   }
  },
  {
   "cell_type": "code",
   "execution_count": 28,
   "outputs": [],
   "source": [],
   "metadata": {
    "collapsed": false,
    "pycharm": {
     "name": "#%%\n"
    }
   }
  }
 ],
 "metadata": {
  "author": {
   "email": "robert.susik@p.lodz.pl",
   "name": "Robert Susik"
  },
  "kernelspec": {
   "display_name": "Python 3 (ipykernel)",
   "language": "python",
   "name": "python3"
  },
  "language_info": {
   "codemirror_mode": {
    "name": "ipython",
    "version": 3
   },
   "file_extension": ".py",
   "mimetype": "text/x-python",
   "name": "python",
   "nbconvert_exporter": "python",
   "pygments_lexer": "ipython3",
   "version": "3.8.11"
  },
  "toc": {
   "base_numbering": 1,
   "nav_menu": {},
   "number_sections": true,
   "sideBar": true,
   "skip_h1_title": false,
   "title_cell": "Table of Contents",
   "title_sidebar": "Contents",
   "toc_cell": false,
   "toc_position": {},
   "toc_section_display": true,
   "toc_window_display": false
  }
 },
 "nbformat": 4,
 "nbformat_minor": 5
}