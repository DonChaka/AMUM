{
 "cells": [
  {
   "cell_type": "markdown",
   "id": "59b5dc28",
   "metadata": {},
   "source": [
    "# Algorytmika i matematyka uczenia maszynowego \n",
    "## Laboratorium 5\n",
    "\n",
    "Do wykonania laboratorium można skorzystać z bibliotek/modułów:\n",
    "- [numpy](https://numpy.org/)\n",
    "- [matplotlib](https://matplotlib.org/)\n",
    "- [pandas](https://pandas.pydata.org/)\n",
    "- [collections](https://docs.python.org/3/library/collections.html)\n"
   ]
  },
  {
   "cell_type": "markdown",
   "id": "ca4e7af2",
   "metadata": {},
   "source": [
    "### Zadanie 1\n",
    "\n",
    "Wczytaj plik `english.10MB`\n",
    "> Podpowiedź: Kodowanie `iso-8859-1`\n",
    "\n"
   ]
  },
  {
   "cell_type": "code",
   "execution_count": 1,
   "id": "967f6b63",
   "metadata": {},
   "outputs": [],
   "source": [
    "import numpy as np\n",
    "import pandas as pd\n",
    "import matplotlib.pyplot as plt\n",
    "import collections\n",
    "plt.rcParams[\"figure.figsize\"] = (20,10)\n",
    "\n",
    "with open('english.10MB', 'r', encoding='iso-8859-1') as f:\n",
    "    data = f.read()\n"
   ]
  },
  {
   "cell_type": "markdown",
   "id": "8d2a3a0d",
   "metadata": {},
   "source": [
    "### Zadanie 2\n",
    "Zamień wszystkie litery na małe.\n"
   ]
  },
  {
   "cell_type": "code",
   "execution_count": 2,
   "id": "5d879322",
   "metadata": {},
   "outputs": [],
   "source": [
    "data_lower = data.lower()"
   ]
  },
  {
   "cell_type": "markdown",
   "id": "cf5a110e",
   "metadata": {},
   "source": [
    "### Zadanie 3\n",
    "Znajdź unikalne litery (pomiń inne znaki) w tekście i dla każdej przypisz liczbę wystąpień, a następnie wyświetl histogram.\n",
    "\n",
    "Pytanie: Jaka litera występuje najczęściej?\n",
    "\n",
    "> Podpowiedź: `import string`\n"
   ]
  },
  {
   "cell_type": "code",
   "execution_count": 3,
   "id": "fa392fb1",
   "metadata": {},
   "outputs": [
    {
     "data": {
      "text/plain": "<Figure size 1440x720 with 1 Axes>",
      "image/png": "[encoded data removed]"
     },
     "metadata": {
      "needs_background": "light"
     },
     "output_type": "display_data"
    }
   ],
   "source": [
    "import string\n",
    "uni = sorted(list(set(data_lower)))\n",
    "uni_l = {}\n",
    "for c in uni:\n",
    "    if c in string.ascii_letters:\n",
    "        uni_l[c] = data_lower.count(c)\n",
    "plt.bar([c for c in uni_l.keys()], list(uni_l.values()))\n",
    "plt.xlabel('litera')\n",
    "plt.ylabel('liczba wystąpień')\n",
    "plt.show()"
   ]
  },
  {
   "cell_type": "markdown",
   "id": "5e248f98",
   "metadata": {},
   "source": [
    "### Zadanie 4\n",
    "\n",
    "Napisz funkcję, która dla podanego prefiksu (ciąg liter, np. `th` to prefiks o długości 2) zwróci listę maksymalnie pięciu liter, które mają największe prawdopodobieństwo wystąpienia po nim.\n",
    "\n",
    "```python\n",
    "In : nast('th', s) # th - prefiks, s - tekst\n",
    "Out: ['e', 'a', 'i', 'o', 'y']\n",
    "```\n",
    "\n"
   ]
  },
  {
   "cell_type": "code",
   "execution_count": 4,
   "id": "304c9e59",
   "metadata": {},
   "outputs": [
    {
     "data": {
      "text/plain": "['e', 'a', 'i', 'o', 'y']"
     },
     "execution_count": 4,
     "metadata": {},
     "output_type": "execute_result"
    }
   ],
   "source": [
    "import re\n",
    "import collections\n",
    "\n",
    "def nast(pref, s):\n",
    "    found = [m.end() for m in re.finditer(pref, s)]\n",
    "    occ = collections.Counter([s[i] for i in found if s[i] in string.ascii_lowercase])\n",
    "    temp = sorted(occ.items(), key=lambda item: item[1], reverse=True)[:5]\n",
    "    return [t[0] for t in temp]\n",
    "\n",
    "nast('th', data_lower)"
   ]
  },
  {
   "cell_type": "markdown",
   "id": "c2a193ff",
   "metadata": {},
   "source": [
    "### Zadanie 5\n",
    "\n",
    "Napisz kod, który wczytuje kolejne znaki od użytkownika i podpowiada następne możliwe litery (maksymalnie pięć). Wykorzystaj funkcję zaimplementowaną w poprzednim zadaniu.\n",
    "\n",
    "> Podpowiedź: Możesz wykorzystać funkcję `input()` do wczytywania znaków.\n",
    "\n",
    "Przykład działania:\n",
    "```\n",
    "Nacisnij <ENTER> aby zakonczyc.\n",
    "Podaj litere: f\n",
    "Podaj kolejną literę (możliwe: ['o', 'a', 'r', 'e', 'i']): fo\n",
    "Podaj kolejną literę (możliwe: ['r', 'u', 'l', 'o', 'x']): for\n",
    "Podaj kolejną literę (możliwe: ['e', 't', 'm', 'g', 'c']): fore\n",
    "Podaj kolejną literę (możliwe: ['s', 'h', 'i', 'g', 'v']): fores\n",
    "Podaj kolejną literę (możliwe: ['t', 'a', 'e', 'i', 'k']): forest\n",
    "Podaj kolejną literę (możliwe: ['s', 'a']): forests\n",
    "```"
   ]
  },
  {
   "cell_type": "code",
   "execution_count": 10,
   "id": "3d6e24d2",
   "metadata": {},
   "outputs": [
    {
     "name": "stdout",
     "output_type": "stream",
     "text": [
      "father\n"
     ]
    }
   ],
   "source": [
    "c = input(\"Podaj litere\")\n",
    "text = c\n",
    "possible = nast(text, data_lower)\n",
    "while c != '' and possible:\n",
    "    c = input(f'Podaj kolejną literę (możliwe: {possible}): {text}')\n",
    "    text += c\n",
    "    possible = nast(text, data_lower)\n",
    "\n",
    "print(text)"
   ]
  },
  {
   "cell_type": "markdown",
   "id": "18515c1d",
   "metadata": {},
   "source": [
    "### Zadanie 6\n",
    "\n",
    "Wykonaj zadanie podobne do zad. 6, ale na poziomie słów. Dla ułatwienia słowa można wybierać z listy za pomocą liczb 1-5."
   ]
  },
  {
   "cell_type": "code",
   "execution_count": 20,
   "id": "3ad6d8d9",
   "metadata": {},
   "outputs": [],
   "source": [
    "def nast_slowo(slowo, s):\n",
    "    found = [m for m in re.findall(f'{slowo} \\w+', s)]\n",
    "    occ = collections.Counter(found)\n",
    "    temp = sorted(occ.items(), key=lambda item: item[1], reverse=True)[:5]\n",
    "    return [t[0] for t in temp]\n",
    "# nast_slowo('they', data_lower)"
   ]
  },
  {
   "cell_type": "code",
   "execution_count": 26,
   "outputs": [
    {
     "name": "stdout",
     "output_type": "stream",
     "text": [
      "they were in the midst of the iraki\n"
     ]
    }
   ],
   "source": [
    "c = input(\"Podaj slowo\")\n",
    "text = c\n",
    "possible = nast_slowo(text, data_lower)\n",
    "while c != '' and possible:\n",
    "    choices = [words.split(\" \")[-1] for words in possible]\n",
    "    c = input(f'Podaj kolejną literę (możliwe: {choices}): {text}')\n",
    "    try:\n",
    "        choice = int(c)\n",
    "        text += ' ' + choices[choice-1]\n",
    "    except ValueError:\n",
    "        text += ' ' + c\n",
    "    except IndexError:\n",
    "        print('Indeks poza dostepnym zakresem')\n",
    "\n",
    "    possible = nast_slowo(text, data_lower)\n",
    "print(text)"
   ],
   "metadata": {
    "collapsed": false,
    "pycharm": {
     "name": "#%%\n"
    }
   }
  }
 ],
 "metadata": {
  "author": {
   "email": "robert.susik@p.lodz.pl",
   "name": "Robert Susik"
  },
  "kernelspec": {
   "display_name": "Python 3 (ipykernel)",
   "language": "python",
   "name": "python3"
  },
  "language_info": {
   "codemirror_mode": {
    "name": "ipython",
    "version": 3
   },
   "file_extension": ".py",
   "mimetype": "text/x-python",
   "name": "python",
   "nbconvert_exporter": "python",
   "pygments_lexer": "ipython3",
   "version": "3.8.12"
  },
  "toc": {
   "base_numbering": 1,
   "nav_menu": {},
   "number_sections": true,
   "sideBar": true,
   "skip_h1_title": false,
   "title_cell": "Table of Contents",
   "title_sidebar": "Contents",
   "toc_cell": false,
   "toc_position": {},
   "toc_section_display": true,
   "toc_window_display": false
  }
 },
 "nbformat": 4,
 "nbformat_minor": 5
}