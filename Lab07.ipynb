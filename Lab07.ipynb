{
 "cells": [
  {
   "cell_type": "markdown",
   "id": "59b5dc28",
   "metadata": {},
   "source": [
    "# Algorytmika i matematyka uczenia maszynowego \n",
    "## Laboratorium 7\n"
   ]
  },
  {
   "cell_type": "markdown",
   "id": "01f97ff3",
   "metadata": {},
   "source": [
    "### Zadanie 1\n",
    "\n",
    "Z miasta A do miasta B kierowca przejechał ze średnią szybkością 60 km/h. Z powrotem jechał szybciej, ze średnią 80 km/h. Jaka była jego średnia szybkość na całej trasie? \n",
    "\n",
    "**Uwaga:** nie używaj gotowych implementacji.\n",
    "\n",
    "> Wskazówka: średnia harmoniczna."
   ]
  },
  {
   "cell_type": "code",
   "execution_count": 1,
   "outputs": [],
   "source": [
    "import numpy as np\n",
    "from time import time_ns\n",
    "import matplotlib.pyplot as plt\n",
    "import itertools\n",
    "from collections import Counter"
   ],
   "metadata": {
    "collapsed": false,
    "pycharm": {
     "name": "#%%\n"
    }
   }
  },
  {
   "cell_type": "code",
   "execution_count": 2,
   "id": "b7313777",
   "metadata": {},
   "outputs": [
    {
     "name": "stdout",
     "output_type": "stream",
     "text": [
      "68.57142857142857\n"
     ]
    }
   ],
   "source": [
    "ab = 60\n",
    "ba = 80\n",
    "print(2/ ((1/ab) + (1/ba)))"
   ]
  },
  {
   "cell_type": "code",
   "execution_count": 3,
   "outputs": [
    {
     "name": "stdout",
     "output_type": "stream",
     "text": [
      "68.57142857142857\n"
     ]
    }
   ],
   "source": [
    "speeds = np.array([60, 80])\n",
    "print(speeds.shape[0] / sum(1/speed for speed in speeds))"
   ],
   "metadata": {
    "collapsed": false,
    "pycharm": {
     "name": "#%%\n"
    }
   }
  },
  {
   "cell_type": "markdown",
   "id": "ca4e7af2",
   "metadata": {},
   "source": [
    "### Zadanie 2\n",
    "\n",
    "Wyobraźmy sobie miasto o liczbie 700 tys. mieszkańców. W mieście pojawiła się choroba i wiemy, że jedna osoba na 1000 zachorowała. Nie wiemy, które to dokładnie osoby, ale jest dostępny test, którego skuteczność wynosi 99%. Teraz wcielamy się w pacjenta, który przeprowadził test, a wynik testu jest pozytywny. Chcemy dowiedzieć się, jakie jest prawdopodobieństwo, że zachorowaliśmy.\n",
    "\n",
    "#### A)\n",
    "\n",
    "Przeprowadzić symulację komputerową:\n",
    "\n",
    "- Generujemy listę wielkości 700 tys.\n",
    "- Losowo wybieramy 700 tys./1000 (bo jedna na 1000 osob zachorowała) osób i zaznaczamy je jako chore.\n",
    "- Wybieramy losowo po 1% osob chorych i zdrowych, a następnie zaznaczamy ich diagnoze na nieprawidlowa (bo skutecznosc testu wynosi 99%).\n",
    "- Oblicz jakie jest prawdopodobienstwo ze osoba z pozytywnym wynikiem testu jest faktycznie chora (`liczba osób chorych z wynikiem pozytywnym` / `liczba wszystkich osob z wynikiem pozytywnym`).\n",
    "\n"
   ]
  },
  {
   "cell_type": "code",
   "execution_count": 4,
   "id": "0fea1c5d",
   "metadata": {},
   "outputs": [
    {
     "name": "stdout",
     "output_type": "stream",
     "text": [
      "Prawdopodobieństwo bycia chorym z pozytywnym wynikiem testu: 9.02%\n",
      "Czas symulacji: 0.0724158 s\n"
     ]
    }
   ],
   "source": [
    "pop_size = 700000\n",
    "sick_ratio = 1 / 1000\n",
    "\n",
    "start = time_ns()\n",
    "\n",
    "people = np.array([False for _ in range(pop_size)])\n",
    "people[np.random.choice(pop_size, int(pop_size * sick_ratio), replace=False)] = True\n",
    "\n",
    "healthy = people[people == True]\n",
    "sick = people[people == False]\n",
    "\n",
    "healthy[np.random.choice(healthy.shape[0], int(healthy.shape[0] * 0.01), replace=False)] = False\n",
    "sick[np.random.choice(sick.shape[0], int(sick.shape[0] * 0.01), replace=False)] = True\n",
    "\n",
    "res = healthy.sum() / (healthy.sum() + sick.sum()) * 100\n",
    "\n",
    "time_a = time_ns() - start\n",
    "\n",
    "print(f'Prawdopodobieństwo bycia chorym z pozytywnym wynikiem testu: {res:.3}%\\nCzas symulacji: {time_a / 1e9} s')"
   ]
  },
  {
   "cell_type": "markdown",
   "id": "46aa035b",
   "metadata": {},
   "source": [
    "#### B)\n",
    "\n",
    "Napisać funkcję, która zwróci wynik obliczony ze wzoru Bayesa. Zmierz i porównaj czas obliczeń w zad. A i zad. B\n",
    "\n"
   ]
  },
  {
   "cell_type": "code",
   "execution_count": 5,
   "id": "1119d040",
   "metadata": {},
   "outputs": [],
   "source": [
    "def bayes_probability(chance: float, test_sensitivity: float) -> float:\n",
    "    return test_sensitivity * chance / (test_sensitivity * chance + (1 - test_sensitivity) * (1 - chance))"
   ]
  },
  {
   "cell_type": "code",
   "execution_count": 6,
   "outputs": [
    {
     "name": "stdout",
     "output_type": "stream",
     "text": [
      "Prawdopodobieństwo bycia chorym z pozytywnym wynikiem testu: 9.016393442622944%\n",
      "Czas symulacji: 0.0 s\n"
     ]
    }
   ],
   "source": [
    "start = time_ns()\n",
    "res = bayes_probability(0.001, 0.99) * 100\n",
    "time_b = time_ns() - start\n",
    "\n",
    "print(f'Prawdopodobieństwo bycia chorym z pozytywnym wynikiem testu: {res}%\\nCzas symulacji: {time_b / 1e9} s')"
   ],
   "metadata": {
    "collapsed": false,
    "pycharm": {
     "name": "#%%\n"
    }
   }
  },
  {
   "cell_type": "code",
   "execution_count": 7,
   "outputs": [
    {
     "name": "stdout",
     "output_type": "stream",
     "text": [
      "Różnica czasu wynosi 0.0724158 s\n"
     ]
    }
   ],
   "source": [
    "print(f'Różnica czasu wynosi {(time_a - time_b) / 1e9} s')"
   ],
   "metadata": {
    "collapsed": false,
    "pycharm": {
     "name": "#%%\n"
    }
   }
  },
  {
   "cell_type": "markdown",
   "id": "2850f724",
   "metadata": {},
   "source": [
    "#### C)\n",
    "\n",
    "Wyświetl wykres, gdzie na osi X znajduje się _czułość testu_ a na osi Y znajduje się _prawdopodobieństwo, że osoba z pozytywnym wynikiem jest chora_."
   ]
  },
  {
   "cell_type": "code",
   "execution_count": 8,
   "id": "7359c283",
   "metadata": {},
   "outputs": [
    {
     "data": {
      "text/plain": "<Figure size 1440x720 with 1 Axes>",
      "image/png": "[encoded data removed]"
     },
     "metadata": {
      "needs_background": "light"
     },
     "output_type": "display_data"
    }
   ],
   "source": [
    "sensitivities = np.arange(0, 1.01, 0.01)\n",
    "\n",
    "plt.figure(figsize=(20, 10))\n",
    "plt.plot(sensitivities, [bayes_probability(0.001, sensitivity) for sensitivity in sensitivities])\n",
    "plt.xlabel('Czułość testu')\n",
    "plt.ylabel('Prawdopodobieństwo, że osoba z pozytywnym wynikiem jest chora')\n",
    "plt.show()"
   ]
  },
  {
   "cell_type": "markdown",
   "id": "2b0253f8",
   "metadata": {},
   "source": [
    "### Zadanie 3\n",
    "\n",
    "Sprawdź (symulacją) jak często trafia się \"ręka\" zawierająca $\\ge 8$ kart w jednym kolorze z 13 kart. Czyli losujemy 13 kart z 52 (wiec \"ręki\" jak w brydzu) tak długo, aż w jakimś kolorze dostaniemy $\\ge 8$ kart. Przeprowadź 1000 takich prob i oblicz średnią. Dodatkowo wypisz jedną (np. ostatnią) taką wylosowaną rękę."
   ]
  },
  {
   "cell_type": "code",
   "execution_count": 9,
   "id": "622ec278",
   "metadata": {},
   "outputs": [],
   "source": [
    "def draw_hand_colors(n: int) -> np.ndarray:\n",
    "    return np.random.choice(52, n, replace=False) // 13"
   ]
  },
  {
   "cell_type": "code",
   "execution_count": 10,
   "outputs": [
    {
     "name": "stdout",
     "output_type": "stream",
     "text": [
      "Prawdopodobieństwo trafienia \"ręki\" zawierającej więcej niż 8 kart w jednym kolorze: 0.2%\n",
      "Ostatnia wylosowana ręka spełniajaca warunek: [3 3 3 3 2 3 0 3 1 3 3 2 3]\n"
     ]
    }
   ],
   "source": [
    "n_iters = 1000\n",
    "successes = 0\n",
    "last = None\n",
    "for _ in range(n_iters):\n",
    "    hand = draw_hand_colors(13)\n",
    "    counter = Counter(hand)\n",
    "\n",
    "    if max(counter.values()) >= 8:\n",
    "        successes += 1\n",
    "        last = hand\n",
    "\n",
    "score = successes / n_iters * 100\n",
    "\n",
    "print(f'Prawdopodobieństwo trafienia \"ręki\" zawierającej więcej niż 8 kart w jednym kolorze: {score}%')\n",
    "print(f'Ostatnia wylosowana ręka spełniajaca warunek: {last}')"
   ],
   "metadata": {
    "collapsed": false,
    "pycharm": {
     "name": "#%%\n"
    }
   }
  },
  {
   "cell_type": "code",
   "execution_count": 10,
   "outputs": [],
   "source": [],
   "metadata": {
    "collapsed": false,
    "pycharm": {
     "name": "#%%\n"
    }
   }
  }
 ],
 "metadata": {
  "author": {
   "email": "robert.susik@p.lodz.pl",
   "name": "Robert Susik"
  },
  "kernelspec": {
   "display_name": "Python 3 (ipykernel)",
   "language": "python",
   "name": "python3"
  },
  "language_info": {
   "codemirror_mode": {
    "name": "ipython",
    "version": 3
   },
   "file_extension": ".py",
   "mimetype": "text/x-python",
   "name": "python",
   "nbconvert_exporter": "python",
   "pygments_lexer": "ipython3",
   "version": "3.8.13"
  },
  "toc": {
   "base_numbering": 1,
   "nav_menu": {},
   "number_sections": true,
   "sideBar": true,
   "skip_h1_title": false,
   "title_cell": "Table of Contents",
   "title_sidebar": "Contents",
   "toc_cell": false,
   "toc_position": {},
   "toc_section_display": true,
   "toc_window_display": false
  }
 },
 "nbformat": 4,
 "nbformat_minor": 5
}